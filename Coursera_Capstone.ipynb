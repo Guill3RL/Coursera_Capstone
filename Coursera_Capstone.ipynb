{
    "cells": [
        {
            "cell_type": "markdown",
            "metadata": {},
            "source": "<p style=\"font-size:36px\"><b>Coursera Capstone Project</b><p>\n<p style=\"font-size:20px\">This notebook will contain the code for the capstone project of IBM data science course in Coursera.</p>"
        },
        {
            "cell_type": "markdown",
            "metadata": {},
            "source": "<p style=\"font-size:24px\"><b>Week 3: Exercise 1</b><p>\n<p>The next cells contain the creation of the initial dataframe with the different neighborhoods in Toronto.</p>"
        },
        {
            "cell_type": "code",
            "execution_count": 26,
            "metadata": {},
            "outputs": [],
            "source": "import pandas as pd\nimport numpy as np\nimport requests\nfrom bs4 import BeautifulSoup"
        },
        {
            "cell_type": "code",
            "execution_count": 25,
            "metadata": {
                "scrolled": true
            },
            "outputs": [
                {
                    "data": {
                        "text/html": "<div>\n<style scoped>\n    .dataframe tbody tr th:only-of-type {\n        vertical-align: middle;\n    }\n\n    .dataframe tbody tr th {\n        vertical-align: top;\n    }\n\n    .dataframe thead th {\n        text-align: right;\n    }\n</style>\n<table border=\"1\" class=\"dataframe\">\n  <thead>\n    <tr style=\"text-align: right;\">\n      <th></th>\n      <th>PostalCode</th>\n      <th>Borough</th>\n      <th>Neighborhood</th>\n    </tr>\n  </thead>\n  <tbody>\n    <tr>\n      <th>0</th>\n      <td>M3A</td>\n      <td>North York</td>\n      <td>Parkwoods</td>\n    </tr>\n    <tr>\n      <th>1</th>\n      <td>M4A</td>\n      <td>North York</td>\n      <td>Victoria Village</td>\n    </tr>\n    <tr>\n      <th>2</th>\n      <td>M5A</td>\n      <td>Downtown Toronto</td>\n      <td>Regent Park, Harbourfront</td>\n    </tr>\n    <tr>\n      <th>3</th>\n      <td>M6A</td>\n      <td>North York</td>\n      <td>Lawrence Manor, Lawrence Heights</td>\n    </tr>\n    <tr>\n      <th>4</th>\n      <td>M7A</td>\n      <td>Queen's Park</td>\n      <td>Ontario Provincial Government</td>\n    </tr>\n  </tbody>\n</table>\n</div>",
                        "text/plain": "  PostalCode           Borough                      Neighborhood\n0        M3A        North York                         Parkwoods\n1        M4A        North York                  Victoria Village\n2        M5A  Downtown Toronto         Regent Park, Harbourfront\n3        M6A        North York  Lawrence Manor, Lawrence Heights\n4        M7A      Queen's Park     Ontario Provincial Government"
                    },
                    "execution_count": 25,
                    "metadata": {},
                    "output_type": "execute_result"
                }
            ],
            "source": "toronto_table = []\n\n# Download html page from Wikipedia\n\nhtml = requests.get('https://en.wikipedia.org/wiki/List_of_postal_codes_of_Canada:_M')\nsoup = BeautifulSoup(html.text, 'html.parser')\n\n#Find the table with the desired data and create a dataframe, removing the empty cells in the process\n\ntable = soup.find('table')\nfor row in table.findAll('td'):\n    neighborhoodRow = []\n    neighborhoodRow.append(row.find('b').text)\n    borough = row.find('span').text.split('(')[0]\n    if borough != 'Not assigned':\n        neighborhood = row.find('span').text.split('(')[1]\n        neighborhood = neighborhood.replace(' /',',').strip(')').replace(')',' ')\n        neighborhoodRow.append(borough)\n        neighborhoodRow.append(neighborhood)\n        toronto_table.append(neighborhoodRow)\n\ntoronto_df = pd.DataFrame(toronto_table, columns = ['PostalCode','Borough','Neighborhood'])\n\n#Cleaning the cells with worng formatting\n\ntoronto_df['Borough']=toronto_df['Borough'].replace({'Downtown TorontoStn A PO Boxes25 The Esplanade':'Downtown Toronto Stn A',\n                                                     'East TorontoBusiness reply mail Processing Centre969 Eastern':'East Toronto Business',\n                                                     'EtobicokeNorthwest':'Etobicoke Northwest','East YorkEast Toronto':'East York/East Toronto',\n                                                     'MississaugaCanada Post Gateway Processing Centre':'Mississauga'})\n\ntoronto_df.head()"
        },
        {
            "cell_type": "markdown",
            "metadata": {},
            "source": "<p style=\"font-size:24px\"><b>Week 3: Exercise 2</b><p>\n<p>The next cells contain the creation of the initial dataframe with the different neighborhoods in Toronto.</p>"
        }
    ],
    "metadata": {
        "kernelspec": {
            "display_name": "Python 3.7",
            "language": "python",
            "name": "python3"
        },
        "language_info": {
            "codemirror_mode": {
                "name": "ipython",
                "version": 3
            },
            "file_extension": ".py",
            "mimetype": "text/x-python",
            "name": "python",
            "nbconvert_exporter": "python",
            "pygments_lexer": "ipython3",
            "version": "3.7.10"
        }
    },
    "nbformat": 4,
    "nbformat_minor": 1
}